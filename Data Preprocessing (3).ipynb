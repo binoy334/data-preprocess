{
 "cells": [
  {
   "cell_type": "code",
   "execution_count": 1,
   "id": "c20e18cb-95d8-4514-922c-497651db17d3",
   "metadata": {},
   "outputs": [
    {
     "name": "stdout",
     "output_type": "stream",
     "text": [
      "   Company   Age  Salary     Place Country  Gender\n",
      "0      TCS  20.0     NaN   Chennai   India       0\n",
      "1  Infosys  30.0     NaN    Mumbai   India       0\n",
      "2      TCS  35.0  2300.0  Calcutta   India       0\n",
      "3  Infosys  40.0  3000.0     Delhi   India       0\n",
      "4      TCS  23.0  4000.0    Mumbai   India       0\n"
     ]
    }
   ],
   "source": [
    "import pandas as pd\n",
    "from sklearn.preprocessing import OneHotEncoder, LabelEncoder\n",
    "import numpy as np\n",
    "from scipy import stats\n",
    "df =pd.read_csv(r'C:\\Users\\binoy\\OneDrive\\Desktop\\entri calss\\assignment 2\\Employee (1).csv')\n",
    "print (df.head())"
   ]
  },
  {
   "cell_type": "code",
   "execution_count": 2,
   "id": "ff61d6df-2213-44fa-bdf4-77dabea6269d",
   "metadata": {},
   "outputs": [
    {
     "name": "stdout",
     "output_type": "stream",
     "text": [
      "<class 'pandas.core.frame.DataFrame'>\n",
      "RangeIndex: 148 entries, 0 to 147\n",
      "Data columns (total 6 columns):\n",
      " #   Column   Non-Null Count  Dtype  \n",
      "---  ------   --------------  -----  \n",
      " 0   Company  140 non-null    object \n",
      " 1   Age      130 non-null    float64\n",
      " 2   Salary   124 non-null    float64\n",
      " 3   Place    134 non-null    object \n",
      " 4   Country  148 non-null    object \n",
      " 5   Gender   148 non-null    int64  \n",
      "dtypes: float64(2), int64(1), object(3)\n",
      "memory usage: 7.1+ KB\n"
     ]
    }
   ],
   "source": [
    "df.info()"
   ]
  },
  {
   "cell_type": "code",
   "execution_count": 3,
   "id": "6327c8e5-0a71-45f8-a5c4-217464b5faf6",
   "metadata": {},
   "outputs": [
    {
     "name": "stdout",
     "output_type": "stream",
     "text": [
      "       Company         Age       Salary   Place Country      Gender\n",
      "count      140  130.000000   124.000000     134     148  148.000000\n",
      "unique       6         NaN          NaN      11       1         NaN\n",
      "top        TCS         NaN          NaN  Mumbai   India         NaN\n",
      "freq        53         NaN          NaN      37     148         NaN\n",
      "mean       NaN   30.484615  5312.467742     NaN     NaN    0.222973\n",
      "std        NaN   11.096640  2573.764683     NaN     NaN    0.417654\n",
      "min        NaN    0.000000  1089.000000     NaN     NaN    0.000000\n",
      "25%        NaN   22.000000  3030.000000     NaN     NaN    0.000000\n",
      "50%        NaN   32.500000  5000.000000     NaN     NaN    0.000000\n",
      "75%        NaN   37.750000  8000.000000     NaN     NaN    0.000000\n",
      "max        NaN   54.000000  9876.000000     NaN     NaN    1.000000\n"
     ]
    }
   ],
   "source": [
    "print (df.describe(include = \"all\"))"
   ]
  },
  {
   "cell_type": "code",
   "execution_count": 4,
   "id": "61ff16cb-b2ec-4182-8ed2-c184d6fd53b3",
   "metadata": {},
   "outputs": [
    {
     "ename": "NameError",
     "evalue": "name 'column' is not defined",
     "output_type": "error",
     "traceback": [
      "\u001b[1;31m---------------------------------------------------------------------------\u001b[0m",
      "\u001b[1;31mNameError\u001b[0m                                 Traceback (most recent call last)",
      "Cell \u001b[1;32mIn[4], line 1\u001b[0m\n\u001b[1;32m----> 1\u001b[0m \u001b[38;5;28mprint\u001b[39m(\u001b[38;5;124mf\u001b[39m\u001b[38;5;124m\"\u001b[39m\u001b[38;5;124mUnique values in \u001b[39m\u001b[38;5;132;01m{\u001b[39;00m\u001b[43mcolumn\u001b[49m\u001b[38;5;132;01m}\u001b[39;00m\u001b[38;5;124m: \u001b[39m\u001b[38;5;132;01m{\u001b[39;00mdf[column]\u001b[38;5;241m.\u001b[39mnunique()\u001b[38;5;132;01m}\u001b[39;00m\u001b[38;5;124m\"\u001b[39m)\n\u001b[0;32m      2\u001b[0m \u001b[38;5;28mprint\u001b[39m(\u001b[38;5;124mf\u001b[39m\u001b[38;5;124m\"\u001b[39m\u001b[38;5;124mUnique values: \u001b[39m\u001b[38;5;132;01m{\u001b[39;00mdf[column]\u001b[38;5;241m.\u001b[39munique()\u001b[38;5;132;01m}\u001b[39;00m\u001b[38;5;124m\"\u001b[39m)\n\u001b[0;32m      3\u001b[0m \u001b[38;5;28mprint\u001b[39m(df\u001b[38;5;241m.\u001b[39mdescribe())\n",
      "\u001b[1;31mNameError\u001b[0m: name 'column' is not defined"
     ]
    }
   ],
   "source": [
    "print(f\"Unique values in {column}: {df[column].nunique()}\")\n",
    "print(f\"Unique values: {df[column].unique()}\")\n",
    "print(df.describe())"
   ]
  },
  {
   "cell_type": "code",
   "execution_count": 23,
   "id": "57933978-5fef-4a3b-a46c-70a470367ced",
   "metadata": {},
   "outputs": [
    {
     "data": {
      "text/html": [
       "<div>\n",
       "<style scoped>\n",
       "    .dataframe tbody tr th:only-of-type {\n",
       "        vertical-align: middle;\n",
       "    }\n",
       "\n",
       "    .dataframe tbody tr th {\n",
       "        vertical-align: top;\n",
       "    }\n",
       "\n",
       "    .dataframe thead th {\n",
       "        text-align: right;\n",
       "    }\n",
       "</style>\n",
       "<table border=\"1\" class=\"dataframe\">\n",
       "  <thead>\n",
       "    <tr style=\"text-align: right;\">\n",
       "      <th></th>\n",
       "      <th>Company</th>\n",
       "      <th>Age</th>\n",
       "      <th>Salary</th>\n",
       "      <th>Place</th>\n",
       "      <th>Country</th>\n",
       "      <th>Gender</th>\n",
       "    </tr>\n",
       "  </thead>\n",
       "  <tbody>\n",
       "    <tr>\n",
       "      <th>21</th>\n",
       "      <td>2</td>\n",
       "      <td>50.0</td>\n",
       "      <td>3184.0</td>\n",
       "      <td>4</td>\n",
       "      <td>0</td>\n",
       "      <td>0</td>\n",
       "    </tr>\n",
       "    <tr>\n",
       "      <th>32</th>\n",
       "      <td>2</td>\n",
       "      <td>45.0</td>\n",
       "      <td>4034.0</td>\n",
       "      <td>1</td>\n",
       "      <td>0</td>\n",
       "      <td>0</td>\n",
       "    </tr>\n",
       "    <tr>\n",
       "      <th>39</th>\n",
       "      <td>2</td>\n",
       "      <td>41.0</td>\n",
       "      <td>3000.0</td>\n",
       "      <td>6</td>\n",
       "      <td>0</td>\n",
       "      <td>0</td>\n",
       "    </tr>\n",
       "    <tr>\n",
       "      <th>50</th>\n",
       "      <td>2</td>\n",
       "      <td>41.0</td>\n",
       "      <td>3000.0</td>\n",
       "      <td>2</td>\n",
       "      <td>0</td>\n",
       "      <td>0</td>\n",
       "    </tr>\n",
       "    <tr>\n",
       "      <th>57</th>\n",
       "      <td>2</td>\n",
       "      <td>51.0</td>\n",
       "      <td>3184.0</td>\n",
       "      <td>5</td>\n",
       "      <td>0</td>\n",
       "      <td>0</td>\n",
       "    </tr>\n",
       "    <tr>\n",
       "      <th>68</th>\n",
       "      <td>2</td>\n",
       "      <td>43.0</td>\n",
       "      <td>4034.0</td>\n",
       "      <td>6</td>\n",
       "      <td>0</td>\n",
       "      <td>0</td>\n",
       "    </tr>\n",
       "    <tr>\n",
       "      <th>75</th>\n",
       "      <td>2</td>\n",
       "      <td>44.0</td>\n",
       "      <td>3000.0</td>\n",
       "      <td>3</td>\n",
       "      <td>0</td>\n",
       "      <td>0</td>\n",
       "    </tr>\n",
       "    <tr>\n",
       "      <th>86</th>\n",
       "      <td>2</td>\n",
       "      <td>41.0</td>\n",
       "      <td>3000.0</td>\n",
       "      <td>4</td>\n",
       "      <td>0</td>\n",
       "      <td>0</td>\n",
       "    </tr>\n",
       "    <tr>\n",
       "      <th>93</th>\n",
       "      <td>2</td>\n",
       "      <td>54.0</td>\n",
       "      <td>3184.0</td>\n",
       "      <td>6</td>\n",
       "      <td>0</td>\n",
       "      <td>0</td>\n",
       "    </tr>\n",
       "    <tr>\n",
       "      <th>104</th>\n",
       "      <td>2</td>\n",
       "      <td>44.0</td>\n",
       "      <td>4034.0</td>\n",
       "      <td>4</td>\n",
       "      <td>0</td>\n",
       "      <td>0</td>\n",
       "    </tr>\n",
       "    <tr>\n",
       "      <th>122</th>\n",
       "      <td>2</td>\n",
       "      <td>44.0</td>\n",
       "      <td>3234.0</td>\n",
       "      <td>6</td>\n",
       "      <td>0</td>\n",
       "      <td>0</td>\n",
       "    </tr>\n",
       "    <tr>\n",
       "      <th>129</th>\n",
       "      <td>2</td>\n",
       "      <td>50.0</td>\n",
       "      <td>3184.0</td>\n",
       "      <td>1</td>\n",
       "      <td>0</td>\n",
       "      <td>0</td>\n",
       "    </tr>\n",
       "    <tr>\n",
       "      <th>138</th>\n",
       "      <td>0</td>\n",
       "      <td>44.0</td>\n",
       "      <td>3033.0</td>\n",
       "      <td>3</td>\n",
       "      <td>0</td>\n",
       "      <td>0</td>\n",
       "    </tr>\n",
       "    <tr>\n",
       "      <th>140</th>\n",
       "      <td>2</td>\n",
       "      <td>44.0</td>\n",
       "      <td>4034.0</td>\n",
       "      <td>5</td>\n",
       "      <td>0</td>\n",
       "      <td>0</td>\n",
       "    </tr>\n",
       "    <tr>\n",
       "      <th>145</th>\n",
       "      <td>2</td>\n",
       "      <td>44.0</td>\n",
       "      <td>4034.0</td>\n",
       "      <td>4</td>\n",
       "      <td>0</td>\n",
       "      <td>1</td>\n",
       "    </tr>\n",
       "  </tbody>\n",
       "</table>\n",
       "</div>"
      ],
      "text/plain": [
       "     Company   Age  Salary  Place  Country  Gender\n",
       "21         2  50.0  3184.0      4        0       0\n",
       "32         2  45.0  4034.0      1        0       0\n",
       "39         2  41.0  3000.0      6        0       0\n",
       "50         2  41.0  3000.0      2        0       0\n",
       "57         2  51.0  3184.0      5        0       0\n",
       "68         2  43.0  4034.0      6        0       0\n",
       "75         2  44.0  3000.0      3        0       0\n",
       "86         2  41.0  3000.0      4        0       0\n",
       "93         2  54.0  3184.0      6        0       0\n",
       "104        2  44.0  4034.0      4        0       0\n",
       "122        2  44.0  3234.0      6        0       0\n",
       "129        2  50.0  3184.0      1        0       0\n",
       "138        0  44.0  3033.0      3        0       0\n",
       "140        2  44.0  4034.0      5        0       0\n",
       "145        2  44.0  4034.0      4        0       1"
      ]
     },
     "execution_count": 23,
     "metadata": {},
     "output_type": "execute_result"
    }
   ],
   "source": [
    "# data analysis\n",
    "filtered_df = df[(df['Age'] > 40) & (df['Salary'] < 5000)]\n",
    "filtered_df\n"
   ]
  },
  {
   "cell_type": "code",
   "execution_count": 8,
   "id": "08daa55e-1012-4d92-b0b9-bc538e1ed150",
   "metadata": {},
   "outputs": [
    {
     "name": "stdout",
     "output_type": "stream",
     "text": [
      "Categorical columns: Index(['Company', 'Place', 'Country'], dtype='object')\n",
      "    Age  Salary  Gender  Company_Congnizant  Company_Infosys  \\\n",
      "0  20.0     NaN       0               False            False   \n",
      "1  30.0     NaN       0               False             True   \n",
      "2  35.0  2300.0       0               False            False   \n",
      "3  40.0  3000.0       0               False             True   \n",
      "4  23.0  4000.0       0               False            False   \n",
      "\n",
      "   Company_Infosys Pvt Lmt  Company_TCS  Company_Tata Consultancy Services  \\\n",
      "0                    False         True                              False   \n",
      "1                    False        False                              False   \n",
      "2                    False         True                              False   \n",
      "3                    False        False                              False   \n",
      "4                    False         True                              False   \n",
      "\n",
      "   Place_Calcutta  Place_Chennai  Place_Cochin  Place_Delhi  Place_Hyderabad  \\\n",
      "0           False           True         False        False            False   \n",
      "1           False          False         False        False            False   \n",
      "2            True          False         False        False            False   \n",
      "3           False          False         False         True            False   \n",
      "4           False          False         False        False            False   \n",
      "\n",
      "   Place_Mumbai  Place_Nagpur  Place_Noida  Place_Podicherry  Place_Pune  \n",
      "0         False         False        False             False       False  \n",
      "1          True         False        False             False       False  \n",
      "2         False         False        False             False       False  \n",
      "3         False         False        False             False       False  \n",
      "4          True         False        False             False       False  \n"
     ]
    }
   ],
   "source": [
    "#DATA ENCODING\n",
    "categorical_cols = df.select_dtypes(include=['object', 'category']).columns\n",
    "print(\"Categorical columns:\", categorical_cols)\n",
    "\n",
    "df_one_hot = pd.get_dummies(df, columns=categorical_cols, drop_first=True)\n",
    "print(df_one_hot.head())\n"
   ]
  },
  {
   "cell_type": "code",
   "execution_count": 9,
   "id": "a5b76912-0d4c-4341-a6a5-0337b3e826b0",
   "metadata": {},
   "outputs": [
    {
     "name": "stdout",
     "output_type": "stream",
     "text": [
      "   Company   Age  Salary  Place  Country  Gender\n",
      "0        4  20.0     NaN      2        0       0\n",
      "1        2  30.0     NaN      6        0       0\n",
      "2        4  35.0  2300.0      1        0       0\n",
      "3        2  40.0  3000.0      4        0       0\n",
      "4        4  23.0  4000.0      6        0       0\n"
     ]
    }
   ],
   "source": [
    "from sklearn.preprocessing import LabelEncoder\n",
    "\n",
    "label_encoder = LabelEncoder()\n",
    "for col in categorical_cols:\n",
    "    df[col] = label_encoder.fit_transform(df[col])\n",
    "print(df.head())"
   ]
  },
  {
   "cell_type": "code",
   "execution_count": 10,
   "id": "eceb9552-8510-422a-9243-b173cc9d04cb",
   "metadata": {},
   "outputs": [
    {
     "name": "stdout",
     "output_type": "stream",
     "text": [
      "   Company   Age  Salary  Place  Country  Gender\n",
      "0        4  20.0     NaN      2        0       0\n",
      "1        2  30.0     NaN      6        0       0\n",
      "2        4  35.0  2300.0      1        0       0\n",
      "3        2  40.0  3000.0      4        0       0\n",
      "4        4  23.0  4000.0      6        0       0\n",
      "Standard Scaled DataFrame:\n",
      "    Company       Age    Salary     Place  Country    Gender\n",
      "0  0.848436 -0.948501       NaN -0.852542      0.0 -0.535683\n",
      "1 -0.272712 -0.043841       NaN  0.428435      0.0 -0.535683\n",
      "2  0.848436  0.408489 -1.175200 -1.172787      0.0 -0.535683\n",
      "3 -0.272712  0.860819 -0.902122 -0.212054      0.0 -0.535683\n",
      "4  0.848436 -0.677103 -0.512010  0.428435      0.0 -0.535683\n",
      "\n",
      "Min-Max Scaled DataFrame:\n",
      "    Company       Age    Salary     Place  Country  Gender\n",
      "0  0.666667  0.370370       NaN  0.181818      0.0     0.0\n",
      "1  0.333333  0.555556       NaN  0.545455      0.0     0.0\n",
      "2  0.666667  0.648148  0.137817  0.090909      0.0     0.0\n",
      "3  0.333333  0.740741  0.217480  0.363636      0.0     0.0\n",
      "4  0.666667  0.425926  0.331285  0.545455      0.0     0.0\n"
     ]
    }
   ],
   "source": [
    "# Feature Scaling\n",
    "from sklearn.preprocessing import StandardScaler, MinMaxScaler\n",
    "categorical_cols = df.select_dtypes(include=['object', 'category']).columns\n",
    "\n",
    "# One-Hot Encoding (if appropriate)\n",
    "df_encoded = pd.get_dummies(df, columns=categorical_cols, drop_first=True)\n",
    "\n",
    "# Display the transformed DataFrame\n",
    "print(df_encoded.head())\n",
    "X = df_encoded \n",
    "standard_scaler = StandardScaler()\n",
    "minmax_scaler = MinMaxScaler()\n",
    "X_standard_scaled = standard_scaler.fit_transform(X)\n",
    "\n",
    "X_minmax_scaled = minmax_scaler.fit_transform(X)\n",
    "\n",
    "# Convert the scaled arrays back to DataFrames for easier inspection\n",
    "X_standard_scaled_df = pd.DataFrame(X_standard_scaled, columns=X.columns)\n",
    "X_minmax_scaled_df = pd.DataFrame(X_minmax_scaled, columns=X.columns)\n",
    "\n",
    "# Display the first few rows of the scaled DataFrames\n",
    "print(\"Standard Scaled DataFrame:\")\n",
    "print(X_standard_scaled_df.head())\n",
    "\n",
    "print(\"\\nMin-Max Scaled DataFrame:\")\n",
    "print(X_minmax_scaled_df.head())"
   ]
  },
  {
   "cell_type": "code",
   "execution_count": 11,
   "id": "70c7e397-362d-4eab-bb54-1977348ef96d",
   "metadata": {},
   "outputs": [
    {
     "name": "stdout",
     "output_type": "stream",
     "text": [
      "Missing values in each column:\n",
      " Company     0\n",
      "Age        18\n",
      "Salary     24\n",
      "Place       0\n",
      "Country     0\n",
      "Gender      0\n",
      "dtype: int64\n"
     ]
    }
   ],
   "source": [
    "# data cleaning\n",
    "missing_values = df.isnull().sum()\n",
    "print(\"Missing values in each column:\\n\", missing_values)"
   ]
  },
  {
   "cell_type": "code",
   "execution_count": 12,
   "id": "9974abc2-dbe9-4b17-8c36-e0d402654b39",
   "metadata": {},
   "outputs": [
    {
     "name": "stdout",
     "output_type": "stream",
     "text": [
      "Missing values in each column:\n",
      "Company     0\n",
      "Age        18\n",
      "Salary     24\n",
      "Place       0\n",
      "Country     0\n",
      "Gender      0\n",
      "dtype: int64\n"
     ]
    }
   ],
   "source": [
    "\n",
    "# Check for missing values\n",
    "print(\"Missing values in each column:\")\n",
    "print(df.isnull().sum())\n"
   ]
  },
  {
   "cell_type": "code",
   "execution_count": 18,
   "id": "0e581708-c998-4569-89f3-cfa65d1a7fe1",
   "metadata": {},
   "outputs": [],
   "source": [
    "\n",
    "# Remove duplicate rows\n",
    "df.drop_duplicates(inplace=True)"
   ]
  },
  {
   "cell_type": "code",
   "execution_count": 15,
   "id": "37b61e13-05bb-4807-a6e6-1db2b2245b61",
   "metadata": {},
   "outputs": [],
   "source": [
    "\n",
    "# Treat null values in numerical columns\n",
    "numerical_columns = df.select_dtypes(include=['int64', 'float64']).columns\n",
    "for column in numerical_columns:\n",
    "    df[column] = df[column].fillna(df[column].mean())"
   ]
  },
  {
   "cell_type": "code",
   "execution_count": 16,
   "id": "02ad3efc-9979-4a59-901b-27e810787f34",
   "metadata": {},
   "outputs": [],
   "source": [
    "# Treat null values in categorical columns\n",
    "categorical_columns = df.select_dtypes(include=['object']).columns\n",
    "for column in categorical_columns:\n",
    "    df[column] = df[column].fillna(df[column].mode().iloc[0])"
   ]
  },
  {
   "cell_type": "code",
   "execution_count": 17,
   "id": "79a844ee-9ed9-4765-8f07-34495b43b8d7",
   "metadata": {},
   "outputs": [
    {
     "name": "stdout",
     "output_type": "stream",
     "text": [
      "Outliers in column Company:\n",
      "Empty DataFrame\n",
      "Columns: [Company, Age, Salary, Place, Country, Gender]\n",
      "Index: []\n",
      "Outliers in column Age:\n",
      "Empty DataFrame\n",
      "Columns: [Company, Age, Salary, Place, Country, Gender]\n",
      "Index: []\n",
      "Outliers in column Salary:\n",
      "Empty DataFrame\n",
      "Columns: [Company, Age, Salary, Place, Country, Gender]\n",
      "Index: []\n",
      "Outliers in column Place:\n",
      "Empty DataFrame\n",
      "Columns: [Company, Age, Salary, Place, Country, Gender]\n",
      "Index: []\n",
      "Outliers in column Country:\n",
      "Empty DataFrame\n",
      "Columns: [Company, Age, Salary, Place, Country, Gender]\n",
      "Index: []\n",
      "Outliers in column Gender:\n",
      "Empty DataFrame\n",
      "Columns: [Company, Age, Salary, Place, Country, Gender]\n",
      "Index: []\n"
     ]
    }
   ],
   "source": [
    "# Find outliers in numerical columns\n",
    "numerical_columns = df.select_dtypes(include=['int64', 'float64']).columns\n",
    "for column in numerical_columns:\n",
    "    z_scores = np.abs(stats.zscore(df[column]))\n",
    "    outliers = df[(z_scores > 3)]\n",
    "    print(f\"Outliers in column {column}:\")\n",
    "    print(outliers)\n"
   ]
  },
  {
   "cell_type": "code",
   "execution_count": 5,
   "id": "fec5e8af-f4a2-4395-8e71-3830e2f29008",
   "metadata": {},
   "outputs": [
    {
     "name": "stdout",
     "output_type": "stream",
     "text": [
      "Cleaned dataset:\n",
      "   Company   Age  Salary     Place Country  Gender\n",
      "0      TCS  20.0     NaN   Chennai   India       0\n",
      "1  Infosys  30.0     NaN    Mumbai   India       0\n",
      "2      TCS  35.0  2300.0  Calcutta   India       0\n",
      "3  Infosys  40.0  3000.0     Delhi   India       0\n",
      "4      TCS  23.0  4000.0    Mumbai   India       0\n"
     ]
    }
   ],
   "source": [
    "# Verify the cleaned dataset\n",
    "print(\"Cleaned dataset:\")\n",
    "print(df.head())"
   ]
  },
  {
   "cell_type": "code",
   "execution_count": null,
   "id": "356c0963-a7f8-4842-96a9-fb7375b394be",
   "metadata": {},
   "outputs": [],
   "source": []
  }
 ],
 "metadata": {
  "kernelspec": {
   "display_name": "Python 3 (ipykernel)",
   "language": "python",
   "name": "python3"
  },
  "language_info": {
   "codemirror_mode": {
    "name": "ipython",
    "version": 3
   },
   "file_extension": ".py",
   "mimetype": "text/x-python",
   "name": "python",
   "nbconvert_exporter": "python",
   "pygments_lexer": "ipython3",
   "version": "3.12.5"
  }
 },
 "nbformat": 4,
 "nbformat_minor": 5
}
